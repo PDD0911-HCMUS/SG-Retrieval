{
 "cells": [
  {
   "cell_type": "code",
   "execution_count": 1,
   "metadata": {},
   "outputs": [],
   "source": [
    "import ConfigArgs as args\n",
    "import psycopg2\n",
    "from tqdm import tqdm"
   ]
  },
  {
   "cell_type": "code",
   "execution_count": 2,
   "metadata": {},
   "outputs": [],
   "source": [
    "conn = psycopg2.connect(args.conn_str)\n",
    "cursor = conn.cursor()"
   ]
  },
  {
   "cell_type": "code",
   "execution_count": 3,
   "metadata": {},
   "outputs": [],
   "source": [
    "sql = \"\"\"SELECT image_name, triplets FROM \"Image2GraphEmbedding_V2_MSCOCO\";\"\"\"\n",
    "cursor.execute(sql)\n",
    "records = cursor.fetchall()"
   ]
  },
  {
   "cell_type": "code",
   "execution_count": 4,
   "metadata": {},
   "outputs": [],
   "source": [
    "def parse_postgres_array(data):\n",
    "    cleaned_data = data.replace('{', '').replace('}', '').replace('\"\"', '\"')\n",
    "    list_data = cleaned_data.split('\",\"')\n",
    "    list_data = [item.strip('\"') for item in list_data]\n",
    "    \n",
    "    return list_data\n",
    "def jaccard_similarity(set1, set2):\n",
    "    intersection = set1.intersection(set2)\n",
    "    union = set1.union(set2)\n",
    "    if not union:\n",
    "        return 0.0  # Tránh chia cho 0\n",
    "    return len(intersection) / len(union)\n",
    "def extract_subject_relation_object(trips):\n",
    "    trip = []\n",
    "    for item in trips:\n",
    "        words = item.split()\n",
    "        t_json = {\n",
    "            \"subject\": words[0],\n",
    "            \"relation\": ' '.join(words[1:-1]),\n",
    "            \"object\": words[-1]\n",
    "        }\n",
    "        trip.append(t_json)\n",
    "    return trip"
   ]
  },
  {
   "cell_type": "code",
   "execution_count": 5,
   "metadata": {},
   "outputs": [],
   "source": [
    "img_id = []\n",
    "file_image = []\n",
    "triplet_set = []\n",
    "trip_by_im = []\n",
    "for record in records[:]:\n",
    "    file_image.append(record[0])\n",
    "    triplet_set.append(set(parse_postgres_array(record[1])))"
   ]
  },
  {
   "cell_type": "code",
   "execution_count": 6,
   "metadata": {},
   "outputs": [
    {
     "data": {
      "text/plain": [
       "83995"
      ]
     },
     "execution_count": 6,
     "metadata": {},
     "output_type": "execute_result"
    }
   ],
   "source": [
    "len(file_image)"
   ]
  },
  {
   "cell_type": "code",
   "execution_count": 6,
   "metadata": {},
   "outputs": [],
   "source": [
    "# combined = list(zip(triplet_set, file_image))\n",
    "# similarities = [(filename, jaccard_similarity(setQ, triplet_set), triplet_set) for triplet_set, filename in combined]\n",
    "# top_k_res = sorted(similarities, key=lambda x: x[1], reverse=True)[:2]\n",
    "# top_k_res"
   ]
  },
  {
   "cell_type": "code",
   "execution_count": 9,
   "metadata": {},
   "outputs": [
    {
     "name": "stderr",
     "output_type": "stream",
     "text": [
      "  0%|          | 0/83995 [00:00<?, ?it/s]"
     ]
    },
    {
     "name": "stderr",
     "output_type": "stream",
     "text": [
      "100%|██████████| 83995/83995 [3:49:24<00:00,  6.10it/s]  \n"
     ]
    },
    {
     "data": {
      "text/plain": [
       "81845"
      ]
     },
     "execution_count": 9,
     "metadata": {},
     "output_type": "execute_result"
    }
   ],
   "source": [
    "res = []\n",
    "combined = list(zip(triplet_set, file_image))\n",
    "for item in tqdm(triplet_set[:]):\n",
    "    setQ = item\n",
    "    similarities = [(filename, jaccard_similarity(setQ, triplet_set), triplet_set) for triplet_set, filename in combined]\n",
    "    top_k_res = sorted(similarities, key=lambda x: x[1], reverse=True)[:2]\n",
    "    for idx, (i, s, t) in enumerate(top_k_res):\n",
    "        if(idx == 1 and s >= 0.375):\n",
    "            t_json = {\n",
    "                \"qe\": {\n",
    "                    \"image_id\": top_k_res[0][0],\n",
    "                    \"trip\": list(top_k_res[0][2]),\n",
    "                },\n",
    "                \"rev\": {\n",
    "                    \"image_id\": i,\n",
    "                    \"image_id_qe\": top_k_res[0][0],\n",
    "                    \"trip\": list(t) \n",
    "                    # \"score\": s,\n",
    "                    # \"trip\": extract_subject_relation_object(list(t))\n",
    "                }\n",
    "            }\n",
    "            res.append(t_json)\n",
    "    # break\n",
    "len(res)"
   ]
  },
  {
   "cell_type": "code",
   "execution_count": null,
   "metadata": {},
   "outputs": [
    {
     "data": {
      "text/plain": [
       "[{'qe': {'image_id': '000000322056.jpg',\n",
       "   'trip': ['man riding horse',\n",
       "    'hat on head',\n",
       "    'horse has ear',\n",
       "    'man wearing hat',\n",
       "    'head of horse',\n",
       "    'man wearing jacket',\n",
       "    'ear of horse',\n",
       "    'hat on man']},\n",
       "  'rev': {'image_id': '000000072793.jpg',\n",
       "   'image_id_qe': '000000322056.jpg',\n",
       "   'trip': ['man riding horse',\n",
       "    'hat on head',\n",
       "    'horse has ear',\n",
       "    'man wearing hat',\n",
       "    'man on horse',\n",
       "    'head of horse',\n",
       "    'man wearing jacket',\n",
       "    'ear of horse',\n",
       "    'hat on man']}}]"
      ]
     },
     "execution_count": 8,
     "metadata": {},
     "output_type": "execute_result"
    }
   ],
   "source": [
    "res[]"
   ]
  },
  {
   "cell_type": "code",
   "execution_count": 10,
   "metadata": {},
   "outputs": [],
   "source": [
    "import json\n",
    "with open('Rev_v2.json', 'w') as f:\n",
    "    json.dump(res, f)"
   ]
  }
 ],
 "metadata": {
  "kernelspec": {
   "display_name": ".venv",
   "language": "python",
   "name": "python3"
  },
  "language_info": {
   "codemirror_mode": {
    "name": "ipython",
    "version": 3
   },
   "file_extension": ".py",
   "mimetype": "text/x-python",
   "name": "python",
   "nbconvert_exporter": "python",
   "pygments_lexer": "ipython3",
   "version": "3.10.12"
  }
 },
 "nbformat": 4,
 "nbformat_minor": 2
}
