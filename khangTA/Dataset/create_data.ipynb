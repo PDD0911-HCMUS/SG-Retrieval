{
 "cells": [
  {
   "cell_type": "code",
   "execution_count": 1,
   "metadata": {},
   "outputs": [
    {
     "name": "stderr",
     "output_type": "stream",
     "text": [
      "/home/duypd/ThisPC-DuyPC/khangta-thesis/.venv/lib/python3.10/site-packages/tqdm/auto.py:21: TqdmWarning: IProgress not found. Please update jupyter and ipywidgets. See https://ipywidgets.readthedocs.io/en/stable/user_install.html\n",
      "  from .autonotebook import tqdm as notebook_tqdm\n"
     ]
    }
   ],
   "source": [
    "import pandas as pd\n",
    "import matplotlib.pyplot as plt\n",
    "import seaborn as sns\n",
    "import random\n",
    "import re\n",
    "from torch.utils.data import Dataset, random_split, DataLoader\n",
    "from transformers import BertTokenizer\n",
    "import unicodedata"
   ]
  },
  {
   "cell_type": "code",
   "execution_count": 15,
   "metadata": {},
   "outputs": [],
   "source": [
    "classes = {\n",
    "    'Công văn': 0,\n",
    "    'Quyết định': 1,\n",
    "    'Báo cáo': 2,\n",
    "    'Thông báo': 3,\n",
    "    'Kế hoạch': 4,\n",
    "    'Tờ trình': 5,\n",
    "    'Thư mời': 6,\n",
    "    'Đơn': 7,\n",
    "    'Giấy mời': 8\n",
    "}\n",
    "\n",
    "tokenizer = BertTokenizer.from_pretrained('bert-base-uncased')\n",
    "\n",
    "class CreateData(Dataset):\n",
    "    def __init__(self, csv_file):\n",
    "        self.csv_file = csv_file\n",
    "\n",
    "        self.data_frame = pd.read_csv(csv_file, encoding='utf-8')\n",
    "\n",
    "    def __getitem__(self, index):\n",
    "        input_text = self.data_frame.loc[index, 'TRICH_YEU']\n",
    "        label = self.data_frame.loc[index, 'HINHTHUC']\n",
    "\n",
    "        input_tok, imput_msk, label = transforms_data(input_text, label)\n",
    "        return input_tok, imput_msk, label\n",
    "    \n",
    "    def __len__(self):\n",
    "        return len(self.data_frame)\n",
    "    \n",
    "\n",
    "def transforms_data(input_text, label):\n",
    "    input_text = input_text.lower()\n",
    "    input_text = unicodedata.normalize('NFD', input_text)\n",
    "    input_text = ''.join(c for c in input_text if unicodedata.category(c) != 'Mn')\n",
    "    token = tokenizer(input_text, padding='max_length', truncation=True, max_length=128, return_tensors=\"pt\")\n",
    "\n",
    "    input_tok = token['input_ids'][0]\n",
    "    imput_msk = token['attention_mask'][0]\n",
    "\n",
    "    label = classes[label]\n",
    "\n",
    "    return input_tok, imput_msk, label"
   ]
  },
  {
   "cell_type": "code",
   "execution_count": 16,
   "metadata": {},
   "outputs": [
    {
     "data": {
      "text/plain": [
       "101243"
      ]
     },
     "execution_count": 16,
     "metadata": {},
     "output_type": "execute_result"
    }
   ],
   "source": [
    "dataset = CreateData(csv_file='/home/duypd/ThisPC-DuyPC/khangta-thesis/Dataset/final_data.csv')\n",
    "dataset.__len__()"
   ]
  },
  {
   "cell_type": "code",
   "execution_count": 17,
   "metadata": {},
   "outputs": [
    {
     "data": {
      "text/plain": [
       "tensor([  101,  2310, 20098,  2278, 27699,  2072, 24209,  6672,  2102,  1102,\n",
       "         2239, 12731,  2050,  6187,  2278,  7570,  4907, 13843, 19610,  2654,\n",
       "         1102, 19098,  3070,  2084,  2232, 15990,  2319,  4229,  1010, 11382,\n",
       "         2368, 12835,  4048,  1102,  4887, 10722,  2002, 27468, 27793,  4017,\n",
       "        16371, 10085, 22794,  2100,  1996, 14163,  5063, 27793,  4017, 16371,\n",
       "        10085,  1010,  6887, 19098,  3070,  2084,  2232, 15990,  2319,  1010,\n",
       "        24110,  2260,  1012,   102,     0,     0,     0,     0,     0,     0,\n",
       "            0,     0,     0,     0,     0,     0,     0,     0,     0,     0,\n",
       "            0,     0,     0,     0,     0,     0,     0,     0,     0,     0,\n",
       "            0,     0,     0,     0,     0,     0,     0,     0,     0,     0,\n",
       "            0,     0,     0,     0,     0,     0,     0,     0,     0,     0,\n",
       "            0,     0,     0,     0,     0,     0,     0,     0,     0,     0,\n",
       "            0,     0,     0,     0,     0,     0,     0,     0])"
      ]
     },
     "execution_count": 17,
     "metadata": {},
     "output_type": "execute_result"
    }
   ],
   "source": [
    "input_tok, imput_msk, label = dataset.__getitem__(78)\n",
    "input_tok"
   ]
  },
  {
   "cell_type": "code",
   "execution_count": 18,
   "metadata": {},
   "outputs": [
    {
     "data": {
      "text/plain": [
       "tensor([1, 1, 1, 1, 1, 1, 1, 1, 1, 1, 1, 1, 1, 1, 1, 1, 1, 1, 1, 1, 1, 1, 1, 1,\n",
       "        1, 1, 1, 1, 1, 1, 1, 1, 1, 1, 1, 1, 1, 1, 1, 1, 1, 1, 1, 1, 1, 1, 1, 1,\n",
       "        1, 1, 1, 1, 1, 1, 1, 1, 1, 1, 1, 1, 1, 1, 1, 1, 0, 0, 0, 0, 0, 0, 0, 0,\n",
       "        0, 0, 0, 0, 0, 0, 0, 0, 0, 0, 0, 0, 0, 0, 0, 0, 0, 0, 0, 0, 0, 0, 0, 0,\n",
       "        0, 0, 0, 0, 0, 0, 0, 0, 0, 0, 0, 0, 0, 0, 0, 0, 0, 0, 0, 0, 0, 0, 0, 0,\n",
       "        0, 0, 0, 0, 0, 0, 0, 0])"
      ]
     },
     "execution_count": 18,
     "metadata": {},
     "output_type": "execute_result"
    }
   ],
   "source": [
    "imput_msk"
   ]
  },
  {
   "cell_type": "code",
   "execution_count": 19,
   "metadata": {},
   "outputs": [],
   "source": [
    "# Chia tập dữ liệu thành 80% train và 20% validation\n",
    "train_size = int(0.8 * len(dataset))\n",
    "valid_size = len(dataset) - train_size\n",
    "train_dataset, valid_dataset = random_split(dataset, [train_size, valid_size])\n",
    "\n",
    "# Tạo DataLoader cho train và validation\n",
    "train_loader = DataLoader(train_dataset, batch_size=32, shuffle=True)\n",
    "valid_loader = DataLoader(valid_dataset, batch_size=32, shuffle=False)"
   ]
  },
  {
   "cell_type": "code",
   "execution_count": 22,
   "metadata": {},
   "outputs": [
    {
     "name": "stdout",
     "output_type": "stream",
     "text": [
      "torch.Size([32, 128])\n",
      "torch.Size([32, 128])\n",
      "tensor([2, 3, 7, 2, 3, 3, 3, 5, 1, 7, 5, 2, 7, 6, 6, 5, 2, 5, 3, 7, 1, 1, 0, 7,\n",
      "        8, 5, 5, 1, 5, 1, 5, 2])\n"
     ]
    }
   ],
   "source": [
    "for sample, msk, label in train_loader:\n",
    "    print(sample.size())\n",
    "    print(msk.size())\n",
    "    print(label)\n",
    "    break"
   ]
  }
 ],
 "metadata": {
  "kernelspec": {
   "display_name": ".venv",
   "language": "python",
   "name": "python3"
  },
  "language_info": {
   "codemirror_mode": {
    "name": "ipython",
    "version": 3
   },
   "file_extension": ".py",
   "mimetype": "text/x-python",
   "name": "python",
   "nbconvert_exporter": "python",
   "pygments_lexer": "ipython3",
   "version": "3.10.12"
  }
 },
 "nbformat": 4,
 "nbformat_minor": 2
}
