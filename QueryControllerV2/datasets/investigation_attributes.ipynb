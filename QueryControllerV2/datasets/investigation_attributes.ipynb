{
 "cells": [
  {
   "cell_type": "code",
   "execution_count": 7,
   "metadata": {},
   "outputs": [],
   "source": [
    "import os\n",
    "import json\n",
    "import random"
   ]
  },
  {
   "cell_type": "code",
   "execution_count": 2,
   "metadata": {},
   "outputs": [],
   "source": [
    "with open('/radish/phamd/duypd-proj/SG-Retrieval/Datasets/VisualGenome/anno_org/attributes.json') as f:\n",
    "    attribute_json = json.load(f)"
   ]
  },
  {
   "cell_type": "code",
   "execution_count": 10,
   "metadata": {},
   "outputs": [],
   "source": [
    "with open('/radish/phamd/duypd-proj/SG-Retrieval/Datasets/VisualGenome/anno_org/image_data.json') as f:\n",
    "    image_json = json.load(f)"
   ]
  },
  {
   "cell_type": "code",
   "execution_count": 2,
   "metadata": {},
   "outputs": [],
   "source": [
    "with open('/home/duypd/ThisPC-DuyPC/SG-Retrieval/Datasets/VisualGenome/anno_org/question_answers.json') as f:\n",
    "    qa_json = json.load(f)"
   ]
  },
  {
   "cell_type": "code",
   "execution_count": 4,
   "metadata": {},
   "outputs": [],
   "source": [
    "with open('/home/duypd/ThisPC-DuyPC/SG-Retrieval/Datasets/VisualGenome/anno_org/region_descriptions.json') as f:\n",
    "    rg_json = json.load(f)"
   ]
  },
  {
   "cell_type": "code",
   "execution_count": 8,
   "metadata": {},
   "outputs": [
    {
     "name": "stdout",
     "output_type": "stream",
     "text": [
      "108077\n",
      "dict_keys(['regions', 'id'])\n"
     ]
    },
    {
     "data": {
      "text/plain": [
       "[{'region_id': 3888,\n",
       "  'width': 56,\n",
       "  'height': 437,\n",
       "  'image_id': 1,\n",
       "  'phrase': 'street light on wooden pole',\n",
       "  'y': 58,\n",
       "  'x': 533},\n",
       " {'region_id': 3388,\n",
       "  'width': 129,\n",
       "  'height': 531,\n",
       "  'image_id': 1,\n",
       "  'phrase': 'white brick building exterior',\n",
       "  'y': 0,\n",
       "  'x': 0},\n",
       " {'region_id': 1934,\n",
       "  'width': 234,\n",
       "  'height': 358,\n",
       "  'image_id': 1,\n",
       "  'phrase': 'trees line up the street',\n",
       "  'y': 197,\n",
       "  'x': 484},\n",
       " {'region_id': 3491,\n",
       "  'width': 218,\n",
       "  'height': 378,\n",
       "  'image_id': 1,\n",
       "  'phrase': 'trees are on the sidewalk',\n",
       "  'y': 176,\n",
       "  'x': 485},\n",
       " {'region_id': 3135,\n",
       "  'width': 253,\n",
       "  'height': 181,\n",
       "  'image_id': 1,\n",
       "  'phrase': 'Truck parked at a curb',\n",
       "  'y': 276,\n",
       "  'x': 532}]"
      ]
     },
     "execution_count": 8,
     "metadata": {},
     "output_type": "execute_result"
    }
   ],
   "source": [
    "#Information\n",
    "print(len(rg_json))\n",
    "print(rg_json[0].keys())\n",
    "rg = random.choices(rg_json[0]['regions'], k = 5)\n",
    "rg"
   ]
  },
  {
   "cell_type": "code",
   "execution_count": 11,
   "metadata": {},
   "outputs": [],
   "source": [
    "def create_description(attributes, names):\n",
    "    if len(attributes) > 1:\n",
    "        attributes_str = ' , '.join(attributes)\n",
    "    else:\n",
    "        attributes_str = attributes[0] if attributes else \"\"\n",
    "    \n",
    "    if attributes_str:\n",
    "        description = f\"{attributes_str} {names[0]}\"\n",
    "    else:\n",
    "        description = names[0]\n",
    "    \n",
    "    return description\n",
    "\n",
    "def get_image_data(image_id, image_data):\n",
    "    for x in image_data:\n",
    "        if(x['image_id'] == image_id):\n",
    "            item = {\n",
    "                'width': x['width'],\n",
    "                'height': x['height'],\n",
    "                'id': x['image_id'],\n",
    "                'file_name': str(x['image_id'])+'.jpg'\n",
    "            }\n",
    "            return item\n",
    "\n"
   ]
  },
  {
   "cell_type": "code",
   "execution_count": 14,
   "metadata": {},
   "outputs": [],
   "source": [
    "id_counter = 1\n",
    "images = []\n",
    "annotations = []\n",
    "for item in rg_json[:25000]:\n",
    "    image_id = item['id']\n",
    "    images.append(get_image_data(image_id, image_json))\n",
    "    rg_random = random.choices(item['regions'], k = 5)\n",
    "    for idx, i in enumerate(rg_random):\n",
    "        anno = {\n",
    "            # \"id\": id_counter,\n",
    "            \"id\": i['region_id'],\n",
    "            \"image_id\": image_id,\n",
    "            \"segmentation\": None,\n",
    "            \"area\": i['width'] * i['height'],\n",
    "            \"bbox\": [i['x'], i['y'], i['width'], i['height']],\n",
    "            \"iscrowd\": 0,\n",
    "            \"desc\": i['phrase'],\n",
    "            \"category_id\": 1\n",
    "            \n",
    "        }\n",
    "        id_counter += 1\n",
    "        annotations.append(anno)\n",
    "\n",
    "vg_anno = {\n",
    "    \"images\": images,\n",
    "    \"annotations\": annotations,\n",
    "    \"categories\": [\n",
    "        {\n",
    "            \"supercategory\": \"object\",\n",
    "            \"id\": 1,\n",
    "            \"name\": \"object\"\n",
    "        }\n",
    "    ]\n",
    "}\n",
    "with open('train_mini_desc.json', 'w') as f:\n",
    "    json.dump(vg_anno, f)\n",
    "\n",
    "images = []\n",
    "annotations = []\n",
    "for item in rg_json[25001:30000]:\n",
    "    image_id = item['id']\n",
    "    images.append(get_image_data(image_id, image_json))\n",
    "    rg_random = random.choices(item['regions'], k = 5)\n",
    "    for idx, i in enumerate(rg_random):\n",
    "        anno = {\n",
    "            # \"id\": id_counter,\n",
    "            \"id\": i['region_id'],\n",
    "            \"image_id\": image_id,\n",
    "            \"segmentation\": None,\n",
    "            \"area\": i['width'] * i['height'],\n",
    "            \"bbox\": [i['x'], i['y'], i['width'], i['height']],\n",
    "            \"iscrowd\": 0,\n",
    "            \"desc\": i['phrase'],\n",
    "            \"category_id\": 1\n",
    "            \n",
    "        }\n",
    "        id_counter += 1\n",
    "        annotations.append(anno)\n",
    "\n",
    "vg_anno = {\n",
    "    \"images\": images,\n",
    "    \"annotations\": annotations,\n",
    "    \"categories\": [\n",
    "        {\n",
    "            \"supercategory\": \"object\",\n",
    "            \"id\": 1,\n",
    "            \"name\": \"object\"\n",
    "        }\n",
    "    ]\n",
    "}\n",
    "with open('val_mini_desc.json', 'w') as f:\n",
    "    json.dump(vg_anno, f)"
   ]
  }
 ],
 "metadata": {
  "kernelspec": {
   "display_name": ".venv",
   "language": "python",
   "name": "python3"
  },
  "language_info": {
   "codemirror_mode": {
    "name": "ipython",
    "version": 3
   },
   "file_extension": ".py",
   "mimetype": "text/x-python",
   "name": "python",
   "nbconvert_exporter": "python",
   "pygments_lexer": "ipython3",
   "version": "3.10.12"
  }
 },
 "nbformat": 4,
 "nbformat_minor": 2
}
