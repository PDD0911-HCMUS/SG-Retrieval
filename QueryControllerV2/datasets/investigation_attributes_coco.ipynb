{
 "cells": [
  {
   "cell_type": "code",
   "execution_count": 13,
   "metadata": {},
   "outputs": [],
   "source": [
    "from PIL import Image, ImageDraw\n",
    "from io import BytesIO\n",
    "import json\n",
    "import os\n",
    "import requests\n",
    "\n",
    "import joblib\n",
    "import matplotlib.pyplot as plt\n",
    "import numpy as np\n",
    "import pickle"
   ]
  },
  {
   "cell_type": "code",
   "execution_count": 4,
   "metadata": {},
   "outputs": [],
   "source": [
    "def print_image_with_attributes(img, attrs, category, sname):\n",
    "\n",
    "    fig = plt.figure()\n",
    "    plt.imshow(img)\n",
    "    plt.axis('off')  # clear x- and y-axes\n",
    "    plt.title(category)\n",
    "    for ind, a in enumerate(attrs):\n",
    "        plt.text(min(img.shape[1]+10, 1000), (ind+1)*img.shape[1]*0.1, a, ha='left')\n",
    "    \n",
    "    fig.savefig(sname, dpi = 300,  bbox_inches='tight')    \n",
    "\n",
    "def print_coco_attributes_instance(cocottributes, coco_data, ex_ind, sname):\n",
    "    # List of COCO Attributes\n",
    "    attr_details = sorted(cocottributes['attributes'], key=lambda x:x['id'])\n",
    "    attr_names = [item['name'] for item in attr_details]\n",
    "\n",
    "    # COCO Attributes instance ID for this example\n",
    "    coco_attr_id = cocottributes['ann_vecs'].keys()[ex_ind]\n",
    "\n",
    "    # COCO Attribute annotation vector, attributes in order sorted by dataset ID\n",
    "    instance_attrs = cocottributes['ann_vecs'][coco_attr_id]\n",
    "\n",
    "    # Print the image and positive attributes for this instance, attribute considered postive if worker vote is > 0.5\n",
    "    pos_attrs = [a for ind, a in enumerate(attr_names) if instance_attrs[ind] > 0.5]\n",
    "    coco_dataset_ann_id = cocottributes['patch_id_to_ann_id'][coco_attr_id]\n",
    "\n",
    "    coco_annotation = [ann for ann in coco_data['annotations'] if ann['id'] == coco_dataset_ann_id][0]\n",
    "\n",
    "    img_url = 'http://mscoco.org/images/{}'.format(coco_annotation['image_id'])\n",
    "    response = requests.get(img_url)\n",
    "    img = Image.open(BytesIO(response.content))\n",
    "    polygon = coco_annotation['segmentation'][0]\n",
    "    ImageDraw.Draw(img, 'RGBA').polygon(polygon, outline=(255,0,0), fill=(255,0,0,50))\n",
    "    img = np.array(img)\n",
    "    category = [c['name'] for c in coco_data['categories'] if c['id'] == coco_annotation['category_id']][0]\n",
    "\n",
    "    print_image_with_attributes(img, pos_attrs, category, sname)"
   ]
  },
  {
   "cell_type": "code",
   "execution_count": 11,
   "metadata": {},
   "outputs": [],
   "source": [
    "# Load COCO Dataset\n",
    "data_types = ['val2017', 'train2017']\n",
    "coco_data = {}\n",
    "# Change this to location where COCO dataset lives\n",
    "coco_dataset_dir = '/home/duypd/ThisPC-DuyPC/SG-Retrieval/Datasets/MSCOCO/annotations/'\n",
    "for dt in data_types:\n",
    "    annFile=os.path.join(coco_dataset_dir, 'instances_%s.json'%(dt))\n",
    "\n",
    "    with open(annFile, 'r') as f:\n",
    "        tmp = json.load(f)\n",
    "        if coco_data == {}:\n",
    "            coco_data = tmp\n",
    "        else:\n",
    "            coco_data['images'] += tmp['images']\n",
    "            coco_data['annotations'] += tmp['annotations']"
   ]
  },
  {
   "cell_type": "code",
   "execution_count": 24,
   "metadata": {},
   "outputs": [
    {
     "ename": "UnicodeDecodeError",
     "evalue": "'ascii' codec can't decode byte 0xf0 in position 726: ordinal not in range(128)",
     "output_type": "error",
     "traceback": [
      "\u001b[0;31m---------------------------------------------------------------------------\u001b[0m",
      "\u001b[0;31mUnicodeDecodeError\u001b[0m                        Traceback (most recent call last)",
      "Cell \u001b[0;32mIn[24], line 3\u001b[0m\n\u001b[1;32m      1\u001b[0m \u001b[38;5;66;03m# Load COCO Attributes \u001b[39;00m\n\u001b[1;32m      2\u001b[0m \u001b[38;5;28;01mwith\u001b[39;00m \u001b[38;5;28mopen\u001b[39m(\u001b[38;5;124m'\u001b[39m\u001b[38;5;124m/home/duypd/ThisPC-DuyPC/SG-Retrieval/Datasets/MSCOCO/cocottributes_eccv_version.pkl\u001b[39m\u001b[38;5;124m'\u001b[39m, \u001b[38;5;124m'\u001b[39m\u001b[38;5;124mrb\u001b[39m\u001b[38;5;124m'\u001b[39m) \u001b[38;5;28;01mas\u001b[39;00m f:\n\u001b[0;32m----> 3\u001b[0m     cocottributes \u001b[38;5;241m=\u001b[39m \u001b[43mpickle\u001b[49m\u001b[38;5;241;43m.\u001b[39;49m\u001b[43mload\u001b[49m\u001b[43m(\u001b[49m\u001b[43mf\u001b[49m\u001b[43m)\u001b[49m\n\u001b[1;32m      5\u001b[0m \u001b[38;5;66;03m# Index of example instance to print\u001b[39;00m\n\u001b[1;32m      6\u001b[0m ex_inds \u001b[38;5;241m=\u001b[39m [\u001b[38;5;241m0\u001b[39m,\u001b[38;5;241m10\u001b[39m,\u001b[38;5;241m50\u001b[39m,\u001b[38;5;241m100\u001b[39m,\u001b[38;5;241m500\u001b[39m,\u001b[38;5;241m1000\u001b[39m,\u001b[38;5;241m5000\u001b[39m,\u001b[38;5;241m10000\u001b[39m]\n",
      "\u001b[0;31mUnicodeDecodeError\u001b[0m: 'ascii' codec can't decode byte 0xf0 in position 726: ordinal not in range(128)"
     ]
    }
   ],
   "source": [
    "# Load COCO Attributes \n",
    "with open('/home/duypd/ThisPC-DuyPC/SG-Retrieval/Datasets/MSCOCO/cocottributes_eccv_version.pkl', 'rb') as f:\n",
    "    cocottributes = pickle.load(f)\n",
    "\n",
    "# Index of example instance to print\n",
    "ex_inds = [0,10,50,100,500,1000,5000,10000]\n",
    "\n",
    "sname = 'example_cocottributes_annotation{}.jpg'\n",
    "for ex_ind in ex_inds:\n",
    "    print_coco_attributes_instance(cocottributes, coco_data, ex_ind, sname.format(ex_ind))"
   ]
  },
  {
   "cell_type": "code",
   "execution_count": 36,
   "metadata": {},
   "outputs": [
    {
     "name": "stdout",
     "output_type": "stream",
     "text": [
      "numer of classes: 80\n"
     ]
    },
    {
     "data": {
      "text/plain": [
       "['person',\n",
       " 'bicycle',\n",
       " 'car',\n",
       " 'motorcycle',\n",
       " 'airplane',\n",
       " 'bus',\n",
       " 'train',\n",
       " 'truck',\n",
       " 'boat',\n",
       " 'traffic light',\n",
       " 'fire hydrant',\n",
       " 'stop sign',\n",
       " 'parking meter',\n",
       " 'bench',\n",
       " 'bird',\n",
       " 'cat',\n",
       " 'dog',\n",
       " 'horse',\n",
       " 'sheep',\n",
       " 'cow',\n",
       " 'elephant',\n",
       " 'bear',\n",
       " 'zebra',\n",
       " 'giraffe',\n",
       " 'backpack',\n",
       " 'umbrella',\n",
       " 'handbag',\n",
       " 'tie',\n",
       " 'suitcase',\n",
       " 'frisbee',\n",
       " 'skis',\n",
       " 'snowboard',\n",
       " 'sports ball',\n",
       " 'kite',\n",
       " 'baseball bat',\n",
       " 'baseball glove',\n",
       " 'skateboard',\n",
       " 'surfboard',\n",
       " 'tennis racket',\n",
       " 'bottle',\n",
       " 'wine glass',\n",
       " 'cup',\n",
       " 'fork',\n",
       " 'knife',\n",
       " 'spoon',\n",
       " 'bowl',\n",
       " 'banana',\n",
       " 'apple',\n",
       " 'sandwich',\n",
       " 'orange',\n",
       " 'broccoli',\n",
       " 'carrot',\n",
       " 'hot dog',\n",
       " 'pizza',\n",
       " 'donut',\n",
       " 'cake',\n",
       " 'chair',\n",
       " 'couch',\n",
       " 'potted plant',\n",
       " 'bed',\n",
       " 'dining table',\n",
       " 'toilet',\n",
       " 'tv',\n",
       " 'laptop',\n",
       " 'mouse',\n",
       " 'remote',\n",
       " 'keyboard',\n",
       " 'cell phone',\n",
       " 'microwave',\n",
       " 'oven',\n",
       " 'toaster',\n",
       " 'sink',\n",
       " 'refrigerator',\n",
       " 'book',\n",
       " 'clock',\n",
       " 'vase',\n",
       " 'scissors',\n",
       " 'teddy bear',\n",
       " 'hair drier',\n",
       " 'toothbrush']"
      ]
     },
     "execution_count": 36,
     "metadata": {},
     "output_type": "execute_result"
    }
   ],
   "source": [
    "print(f'numer of classes: {len(tmp[\"categories\"])}')\n",
    "tmp[\"categories\"]\n",
    "cls_name  = []\n",
    "for item in tmp[\"categories\"]:\n",
    "    cls_name.append(item['name'])\n",
    "\n",
    "cls_name\n"
   ]
  },
  {
   "cell_type": "code",
   "execution_count": 31,
   "metadata": {},
   "outputs": [
    {
     "name": "stdout",
     "output_type": "stream",
     "text": [
      "area: 702.1057499999998\n",
      "iscrowd: 0\n",
      "image_id: 289343\n",
      "bbox: [473.07, 395.93, 38.65, 28.67]\n",
      "category_id: 18\n",
      "id: 1768\n"
     ]
    }
   ],
   "source": [
    "coco_data['annotations'][0].keys()\n",
    "for i in coco_data['annotations'][0].keys():\n",
    "    if(i != 'segmentation'):\n",
    "        print(f'{i}: {coco_data[\"annotations\"][0][i]}')"
   ]
  }
 ],
 "metadata": {
  "kernelspec": {
   "display_name": ".venv",
   "language": "python",
   "name": "python3"
  },
  "language_info": {
   "codemirror_mode": {
    "name": "ipython",
    "version": 3
   },
   "file_extension": ".py",
   "mimetype": "text/x-python",
   "name": "python",
   "nbconvert_exporter": "python",
   "pygments_lexer": "ipython3",
   "version": "3.10.12"
  }
 },
 "nbformat": 4,
 "nbformat_minor": 2
}
