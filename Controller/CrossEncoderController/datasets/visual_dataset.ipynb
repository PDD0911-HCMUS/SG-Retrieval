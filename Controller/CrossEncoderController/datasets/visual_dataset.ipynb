{
 "cells": [
  {
   "cell_type": "code",
   "execution_count": 1,
   "metadata": {},
   "outputs": [],
   "source": [
    "import os\n",
    "import json\n",
    "import random\n",
    "from PIL import Image,ImageDraw\n",
    "from scipy.spatial import distance"
   ]
  },
  {
   "cell_type": "code",
   "execution_count": 10,
   "metadata": {},
   "outputs": [],
   "source": [
    "vg_image_dir = \"/home/duypd/ThisPC-DuyPC/SG-Retrieval/Datasets/VisualGenome/VG_100K\"\n",
    "\n",
    "with open('/home/duypd/ThisPC-DuyPC/SG-Retrieval/Datasets/VisualGenome/anno_rg/val_data.json') as f:\n",
    "    rg_json = json.load(f)"
   ]
  },
  {
   "cell_type": "code",
   "execution_count": 15,
   "metadata": {},
   "outputs": [
    {
     "name": "stdout",
     "output_type": "stream",
     "text": [
      "531\n"
     ]
    }
   ],
   "source": [
    "for i, x in enumerate(rg_json):\n",
    "    if(x['image_id'] == 642):\n",
    "        print(i)"
   ]
  },
  {
   "cell_type": "code",
   "execution_count": 17,
   "metadata": {},
   "outputs": [
    {
     "name": "stdout",
     "output_type": "stream",
     "text": [
      "[40, 194, 265, 89] A white plane on a tarmac\n",
      "[271, 197, 205, 78] A white plane on a tarmac\n",
      "[152, 261, 136, 23] Landing gear on a white plane\n",
      "[9, 341, 683, 117] A strip of grass near a tarmac\n",
      "[597, 182, 46, 55] A crane beyond a row of airplanes\n",
      "[3, 245, 45, 27] A small plane on a tarmac\n",
      "[439, 247, 23, 25] The front landing wheel on a plane\n",
      "[244, 228, 30, 18] Pilot windows on a plane\n",
      "[189, 265, 22, 14] wheel on the plane \n",
      "[380, 234, 13, 11] window on the plane \n"
     ]
    }
   ],
   "source": [
    "idx = 531\n",
    "rg_json[idx].keys()\n",
    "\n",
    "image = Image.open(vg_image_dir + f\"/{rg_json[idx]['image_id']}.jpg\")\n",
    "draw = ImageDraw.Draw(image)\n",
    "\n",
    "for item in rg_json[idx]['regions'][:10]:\n",
    "    print(item['bbox'], item['phrase'])\n",
    "    x, y, w, h = item[\"bbox\"][0], item[\"bbox\"][1], item[\"bbox\"][2], item[\"bbox\"][3]\n",
    "    phrase = item['phrase']\n",
    "    draw.rectangle([x, y, x + w, y + h], outline=\"blue\", width=2)\n",
    "\n",
    "    text_size = draw.textbbox((x, y), phrase)\n",
    "    text_w, text_h = text_size[2] - text_size[0], text_size[3] - text_size[1]\n",
    "    draw.rectangle([x, y - text_h - 5, x + text_w + 10, y], fill=\"black\")\n",
    "    draw.text((x + 5, y - text_h - 5), phrase, fill=\"white\")\n",
    "\n",
    "image.show()"
   ]
  }
 ],
 "metadata": {
  "kernelspec": {
   "display_name": ".venv",
   "language": "python",
   "name": "python3"
  },
  "language_info": {
   "codemirror_mode": {
    "name": "ipython",
    "version": 3
   },
   "file_extension": ".py",
   "mimetype": "text/x-python",
   "name": "python",
   "nbconvert_exporter": "python",
   "pygments_lexer": "ipython3",
   "version": "3.10.12"
  }
 },
 "nbformat": 4,
 "nbformat_minor": 2
}
