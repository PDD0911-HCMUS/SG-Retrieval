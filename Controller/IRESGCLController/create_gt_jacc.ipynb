{
 "cells": [
  {
   "cell_type": "code",
   "execution_count": 1,
   "metadata": {},
   "outputs": [
    {
     "name": "stderr",
     "output_type": "stream",
     "text": [
      "/home/duypd/ThisPC-DuyPC/SG-Retrieval/.venv/lib/python3.10/site-packages/tqdm/auto.py:21: TqdmWarning: IProgress not found. Please update jupyter and ipywidgets. See https://ipywidgets.readthedocs.io/en/stable/user_install.html\n",
      "  from .autonotebook import tqdm as notebook_tqdm\n"
     ]
    }
   ],
   "source": [
    "import ConfigArgs as args\n",
    "import torchvision\n",
    "from pycocotools import mask as coco_mask\n",
    "from tqdm import tqdm\n",
    "import json\n",
    "import torch"
   ]
  },
  {
   "cell_type": "code",
   "execution_count": 16,
   "metadata": {},
   "outputs": [],
   "source": [
    "class ConvertCocoPolysToMask(object):\n",
    "    def __init__(self, return_masks=False):\n",
    "        self.return_masks = return_masks\n",
    "\n",
    "    def __call__(self, image, target):\n",
    "        w, h = image.size\n",
    "\n",
    "        image_id = target[\"image_id\"]\n",
    "        image_id = torch.tensor([image_id])\n",
    "\n",
    "        anno = target[\"annotations\"]\n",
    "        classes = [obj[\"category_id\"] for obj in anno]\n",
    "        classes = torch.tensor(classes, dtype=torch.int64)\n",
    "\n",
    "        # TODO add relation gt in the target\n",
    "        rel_annotations = target['rel_annotations']\n",
    "        triplet_target_promt = target['triplet_target_promt']\n",
    "        triplet_target = target['triplet_target']\n",
    "        rel_labels = target['rel_labels']\n",
    "\n",
    "        target[\"image_id\"] = image_id\n",
    "        # TODO add relation gt in the target\n",
    "        target['rel_annotations'] = torch.tensor(rel_annotations)\n",
    "        # target['triplet_target'] = triplet_target\n",
    "        # target['rel_labels'] = rel_labels\n",
    "        # target['triplet_target_promt'] = triplet_target_promt\n",
    "\n",
    "        return image, target\n",
    "    \n",
    "class CocoDetection(torchvision.datasets.CocoDetection):\n",
    "    def __init__(self, img_folder, ann_file, transforms, return_masks):\n",
    "        super(CocoDetection, self).__init__(img_folder, ann_file)\n",
    "        self._transforms = transforms\n",
    "        self.prepare = ConvertCocoPolysToMask(return_masks)\n",
    "\n",
    "        #TODO load relationship\n",
    "        with open('/'.join(ann_file.split('/')[:-1])+'/rel.json', 'r') as f:\n",
    "            all_rels = json.load(f)\n",
    "\n",
    "        with open('/home/duypd/ThisPC-DuyPC/SG-Retrieval/Datasets/VisualGenome/categories.json', 'r') as f:\n",
    "            categories = json.load(f)\n",
    "        if 'train' in ann_file:\n",
    "            self.rel_annotations = all_rels['train']\n",
    "        elif 'val' in ann_file:\n",
    "            self.rel_annotations = all_rels['val']\n",
    "        else:\n",
    "            self.rel_annotations = all_rels['test']\n",
    "\n",
    "        self.rel_categories = all_rels['rel_categories']\n",
    "        self.categories = categories['categories']\n",
    "        \n",
    "\n",
    "    def __getitem__(self, idx):\n",
    "        img, target = super(CocoDetection, self).__getitem__(idx)\n",
    "        image_id = self.ids[idx]\n",
    "        rel_target = self.rel_annotations[str(image_id)]\n",
    "        triplets_txt_promt = []\n",
    "        triplets_txt = []\n",
    "        rel_labels = []\n",
    "        for item in rel_target:\n",
    "            rel_txt = self.rel_categories[item[2]]\n",
    "            sub = self.categories[target[item[0]]['category_id'] - 1]['name']\n",
    "            obj = self.categories[target[item[1]]['category_id'] - 1]['name']\n",
    "            rel_labels.append(rel_txt)\n",
    "            triplets_txt_promt.append(sub + ' ' + '[MASK]' + ' ' + obj)\n",
    "            triplets_txt.append(sub + ' ' + rel_txt + ' ' + obj)\n",
    "\n",
    "        target = {\n",
    "            'image_id': image_id, \n",
    "            'annotations': {\n",
    "                # 'rel_annotations': rel_target, \n",
    "                'rel_labels': rel_labels,\n",
    "                # 'triplet_target_promt': triplets_txt_promt,\n",
    "                'triplet_target': triplets_txt\n",
    "            }\n",
    "        }\n",
    "\n",
    "        # img, target = self.prepare(img, target)\n",
    "        # if self._transforms is not None:\n",
    "        #     img, target = self._transforms(img, target)\n",
    "        # return img, target # triplets_txt_promt,\n",
    "        # return img,triplets_txt, target # triplets_txt_promt,\n",
    "        return target # triplets_txt_promt,"
   ]
  },
  {
   "cell_type": "code",
   "execution_count": 17,
   "metadata": {},
   "outputs": [
    {
     "name": "stdout",
     "output_type": "stream",
     "text": [
      "loading annotations into memory...\n",
      "Done (t=1.58s)\n",
      "creating index...\n",
      "index created!\n"
     ]
    },
    {
     "data": {
      "text/plain": [
       "57723"
      ]
     },
     "execution_count": 17,
     "metadata": {},
     "output_type": "execute_result"
    }
   ],
   "source": [
    "img_folder = '/home/duypd/ThisPC-DuyPC/SG-Retrieval/Datasets/VisualGenome/VG_100K'\n",
    "ann_file = '/home/duypd/ThisPC-DuyPC/SG-Retrieval/Datasets/VisualGenome/anno_reltr/train.json'\n",
    "dataset = CocoDetection(img_folder, ann_file, transforms=None, return_masks=False)\n",
    "len(dataset)"
   ]
  },
  {
   "cell_type": "code",
   "execution_count": 21,
   "metadata": {},
   "outputs": [],
   "source": [
    "tgt = []\n",
    "for idx in range(len(dataset)):\n",
    "    # tgt = dataset.__getitem__(idx)\n",
    "    tgt.append(dataset.__getitem__(idx))\n"
   ]
  },
  {
   "cell_type": "code",
   "execution_count": 18,
   "metadata": {},
   "outputs": [],
   "source": [
    "target = dataset.__getitem__(3012)"
   ]
  },
  {
   "cell_type": "code",
   "execution_count": 26,
   "metadata": {},
   "outputs": [],
   "source": [
    "with open('/home/duypd/ThisPC-DuyPC/SG-Retrieval/Datasets/VisualGenome/retrieval.json', 'w') as f:\n",
    "    json.dump(tgt, f)\n"
   ]
  },
  {
   "cell_type": "code",
   "execution_count": 24,
   "metadata": {},
   "outputs": [
    {
     "data": {
      "text/plain": [
       "57723"
      ]
     },
     "execution_count": 24,
     "metadata": {},
     "output_type": "execute_result"
    }
   ],
   "source": [
    "len(tgt)"
   ]
  },
  {
   "cell_type": "code",
   "execution_count": 17,
   "metadata": {},
   "outputs": [],
   "source": [
    "with open('/home/duypd/ThisPC-DuyPC/SG-Retrieval/Datasets/VisualGenome/anno_reltr/rel.json', 'r') as f:\n",
    "    all_rels = json.load(f)\n",
    "\n",
    "with open('/home/duypd/ThisPC-DuyPC/SG-Retrieval/Datasets/VisualGenome/categories.json', 'r') as f:\n",
    "    categories = json.load(f)\n",
    "\n",
    "with open('/home/duypd/ThisPC-DuyPC/SG-Retrieval/Datasets/VisualGenome/anno_reltr/train.json', 'r') as f:\n",
    "    train = json.load(f)\n",
    "\n",
    "rel_annotations = all_rels['train']\n",
    "\n",
    "rel_categories = all_rels['rel_categories']\n",
    "categories = categories['categories']"
   ]
  },
  {
   "cell_type": "code",
   "execution_count": 27,
   "metadata": {},
   "outputs": [],
   "source": [
    "def create_ground_truth_for_triplet(data, query_triplet):\n",
    "    ground_truth_images = []\n",
    "    \n",
    "    # Lặp qua từng phần tử của bộ dữ liệu\n",
    "    for item in data:\n",
    "        image_id = item['image_id']\n",
    "        triplet_targets = item['annotations']['triplet_target']\n",
    "        \n",
    "        # Kiểm tra xem query_triplet có trong danh sách triplet_target hay không\n",
    "        if query_triplet in triplet_targets:\n",
    "            ground_truth_images.append(image_id)\n",
    "    \n",
    "    return ground_truth_images"
   ]
  },
  {
   "cell_type": "code",
   "execution_count": 38,
   "metadata": {},
   "outputs": [
    {
     "name": "stdout",
     "output_type": "stream",
     "text": [
      "Số lượng hình ảnh chứa triplet 'train on street': 10\n",
      "Image IDs: [2347308, 2348659, 2352843, 2357116, 2357284, 2357866, 2361213, 2370486, 2383858, 2399020]\n"
     ]
    }
   ],
   "source": [
    "query_triplet = \"train on street\"\n",
    "\n",
    "# Tạo danh sách ground truth cho triplet này\n",
    "ground_truth_images = create_ground_truth_for_triplet(tgt, query_triplet)\n",
    "\n",
    "print(f\"Số lượng hình ảnh chứa triplet '{query_triplet}': {len(ground_truth_images)}\")\n",
    "print(f\"Image IDs: {ground_truth_images}\")"
   ]
  },
  {
   "cell_type": "code",
   "execution_count": null,
   "metadata": {},
   "outputs": [],
   "source": []
  }
 ],
 "metadata": {
  "kernelspec": {
   "display_name": ".venv",
   "language": "python",
   "name": "python3"
  },
  "language_info": {
   "codemirror_mode": {
    "name": "ipython",
    "version": 3
   },
   "file_extension": ".py",
   "mimetype": "text/x-python",
   "name": "python",
   "nbconvert_exporter": "python",
   "pygments_lexer": "ipython3",
   "version": "3.10.12"
  }
 },
 "nbformat": 4,
 "nbformat_minor": 2
}
